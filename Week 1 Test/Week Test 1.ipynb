{
 "cells": [
  {
   "cell_type": "code",
   "execution_count": 1,
   "id": "54eab85d",
   "metadata": {},
   "outputs": [],
   "source": [
    "import re\n",
    "import json\n",
    "regex = regex = r'\\b[A-Za-z0-9._%+-]+@[A-Za-z0-9.-]+\\.[A-Z|a-z]{2,}\\b'"
   ]
  },
  {
   "cell_type": "code",
   "execution_count": 2,
   "id": "0fff2d11",
   "metadata": {},
   "outputs": [],
   "source": [
    "def emailScrap(content):\n",
    "    emails = re.findall(regex, content)\n",
    "    email_dict = {}\n",
    "    for email in emails:\n",
    "        email_dict[email] = {}\n",
    "        email_dict[email]['Occurance'] = emails.count(email)\n",
    "        if re.fullmatch('\\S+\\.\\S+@\\S+', email):\n",
    "            email_dict[email]['EmailType'] = 'Human'\n",
    "        else:\n",
    "            email_dict[email]['EmailType'] = 'Non-Human'\n",
    "            \n",
    "    return email_dict"
   ]
  },
  {
   "cell_type": "code",
   "execution_count": 3,
   "id": "36c419a9",
   "metadata": {},
   "outputs": [
    {
     "data": {
      "text/plain": [
       "{'market@qq.com': {'Occurance': 2, 'EmailType': 'Non-Human'},\n",
       " 'jeff.peterson@b2bsearch.com': {'Occurance': 1, 'EmailType': 'Human'}}"
      ]
     },
     "execution_count": 3,
     "metadata": {},
     "output_type": "execute_result"
    }
   ],
   "source": [
    "emailScrap(\"Get 50% off on every purchase. contact marketing team at market@qq.com. Find all your linkedincontacts for free, jeff.peterson@b2bsearch.com. qq.com partnership program apply at market@qq.com\")"
   ]
  },
  {
   "cell_type": "code",
   "execution_count": 4,
   "id": "2a62104f",
   "metadata": {},
   "outputs": [],
   "source": [
    "f = open('websiteData.txt', 'r')\n",
    "lines = f.readlines()\n",
    "content = ' '\n",
    "for word in lines:\n",
    "    content += ' ' + word"
   ]
  },
  {
   "cell_type": "code",
   "execution_count": 5,
   "id": "7774a9c4",
   "metadata": {},
   "outputs": [
    {
     "name": "stdout",
     "output_type": "stream",
     "text": [
      "{'Jobs@linkedin.com': {'Occurance': 1, 'EmailType': 'Non-Human'}, 'gregor@mxanalytics.com': {'Occurance': 1, 'EmailType': 'Non-Human'}, 'susan.daniels@moo.com': {'Occurance': 1, 'EmailType': 'Human'}, 'aayush@deepminds.xyz': {'Occurance': 1, 'EmailType': 'Non-Human'}, 'hr@vancuemonics.com': {'Occurance': 1, 'EmailType': 'Non-Human'}, 'syneca.gregory@gmail.com': {'Occurance': 1, 'EmailType': 'Human'}, 'realtors@bbn.com': {'Occurance': 1, 'EmailType': 'Non-Human'}, 'info@content.linkedin.com': {'Occurance': 1, 'EmailType': 'Non-Human'}}\n"
     ]
    }
   ],
   "source": [
    "email_result = emailScrap(content)\n",
    "print(email_result)"
   ]
  },
  {
   "cell_type": "code",
   "execution_count": 6,
   "id": "feadcd04",
   "metadata": {},
   "outputs": [],
   "source": [
    "to_json = open('result.json', 'w')\n",
    "to_json = json.dump(email_result, to_json)"
   ]
  },
  {
   "cell_type": "code",
   "execution_count": null,
   "id": "7a49df27",
   "metadata": {},
   "outputs": [],
   "source": []
  },
  {
   "cell_type": "code",
   "execution_count": null,
   "id": "95212f2d",
   "metadata": {},
   "outputs": [],
   "source": []
  }
 ],
 "metadata": {
  "kernelspec": {
   "display_name": "Python 3 (ipykernel)",
   "language": "python",
   "name": "python3"
  },
  "language_info": {
   "codemirror_mode": {
    "name": "ipython",
    "version": 3
   },
   "file_extension": ".py",
   "mimetype": "text/x-python",
   "name": "python",
   "nbconvert_exporter": "python",
   "pygments_lexer": "ipython3",
   "version": "3.9.7"
  }
 },
 "nbformat": 4,
 "nbformat_minor": 5
}
